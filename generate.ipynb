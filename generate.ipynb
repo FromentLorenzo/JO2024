{
 "cells": [
  {
   "cell_type": "code",
   "execution_count": 1,
   "metadata": {},
   "outputs": [
    {
     "name": "stdout",
     "output_type": "stream",
     "text": [
      "Requirement already satisfied: rdflib in c:\\users\\valentin\\documents\\cours 24-25\\ingénierie des connaissances - s10\\td3\\myenv\\lib\\site-packages (7.1.3)\n",
      "Requirement already satisfied: pyparsing<4,>=2.1.0 in c:\\users\\valentin\\documents\\cours 24-25\\ingénierie des connaissances - s10\\td3\\myenv\\lib\\site-packages (from rdflib) (3.2.0)\n",
      "Note: you may need to restart the kernel to use updated packages.\n"
     ]
    },
    {
     "name": "stderr",
     "output_type": "stream",
     "text": [
      "\n",
      "[notice] A new release of pip available: 22.3 -> 25.0\n",
      "[notice] To update, run: python.exe -m pip install --upgrade pip\n"
     ]
    }
   ],
   "source": [
    "%pip install rdflib"
   ]
  },
  {
   "cell_type": "code",
   "execution_count": null,
   "metadata": {},
   "outputs": [],
   "source": [
    "json_file_path = \"triplets/merged.json\"\n",
    "ttl_file_path = \"csv/data.ttl\""
   ]
  },
  {
   "cell_type": "code",
   "execution_count": 2,
   "metadata": {},
   "outputs": [
    {
     "name": "stdout",
     "output_type": "stream",
     "text": [
      "Transformed data saved to og24.ttl\n"
     ]
    }
   ],
   "source": [
    "from rdflib import Graph, URIRef, Literal, Namespace\n",
    "from rdflib.namespace import RDF, RDFS, SKOS, XSD\n",
    "\n",
    "# Define namespaces\n",
    "SE = Namespace(\"http://example.org/olympics2024/schema#\")\n",
    "EX = Namespace(\"http://example.org/vocab/\")\n",
    "SKOS_NS = Namespace(\"http://www.w3.org/2004/02/skos/core#\")\n",
    "\n",
    "# Initialize graphs\n",
    "data_graph = Graph()\n",
    "data_graph.bind(\"se\", SE)\n",
    "data_graph.bind(\"ex\", EX)\n",
    "\n",
    "# Map disciplines to SKOS concepts from se_skos.ttl\n",
    "skos_graph = Graph()\n",
    "skos_graph.parse(\"se_skos.ttl\", format=\"turtle\")\n",
    "\n",
    "discipline_to_skos = {}\n",
    "for s, p, o in skos_graph.triples((None, RDF.type, SKOS.Concept)):\n",
    "    label = skos_graph.value(s, SKOS.prefLabel)\n",
    "    if label:\n",
    "        discipline_to_skos[label.toPython()] = s\n",
    "\n",
    "# Function to process data and generate RDF triples\n",
    "def process_data(input_file, output_file):\n",
    "    \"\"\"Transforms TTL data into structured RDF objects.\"\"\"\n",
    "    # Load the input data\n",
    "    data_graph.parse(input_file, format=\"turtle\")\n",
    "\n",
    "    # Graph to hold the output\n",
    "    output_graph = Graph()\n",
    "    output_graph.bind(\"se\", SE)\n",
    "    output_graph.bind(\"ex\", EX)\n",
    "    output_graph.bind(\"skos\", SKOS_NS)\n",
    "\n",
    "    for result in data_graph.subjects(RDF.type, None):\n",
    "        # Extract attributes\n",
    "        medal_type = data_graph.value(result, EX.Medal_type)\n",
    "        athlete_name = data_graph.value(result, EX.Name)\n",
    "        discipline = data_graph.value(result, EX.Discipline)\n",
    "        event = data_graph.value(result, EX.Event)\n",
    "        country_name = data_graph.value(result, EX.Country)\n",
    "\n",
    "        # Create URIs\n",
    "        if medal_type:\n",
    "            medal_uri = URIRef(f\"http://example.org/medal/{medal_type.replace(' ', '_')}\")\n",
    "            output_graph.add((medal_uri, RDF.type, SE.MedalType))\n",
    "            output_graph.add((medal_uri, RDFS.label, Literal(medal_type, datatype=XSD.string)))\n",
    "\n",
    "        if athlete_name:\n",
    "            athlete_uri = URIRef(f\"http://example.org/athlete/{athlete_name.replace(' ', '_')}\")\n",
    "            output_graph.add((athlete_uri, RDF.type, SE.Athlete))\n",
    "            output_graph.add((athlete_uri, RDFS.label, Literal(athlete_name, datatype=XSD.string)))\n",
    "\n",
    "        if event:\n",
    "            event_uri = URIRef(f\"http://example.org/event/{event.replace(' ', '_')}\")\n",
    "            output_graph.add((event_uri, RDF.type, SE.Event))\n",
    "            output_graph.add((event_uri, RDFS.label, Literal(event, datatype=XSD.string)))\n",
    "\n",
    "        if country_name:\n",
    "            country_uri = URIRef(f\"http://example.org/country/{country_name.replace(' ', '_')}\")\n",
    "            output_graph.add((country_uri, RDF.type, SE.Country))\n",
    "            output_graph.add((country_uri, RDFS.label, Literal(country_name, datatype=XSD.string)))\n",
    "\n",
    "        # Link discipline to SKOS concept\n",
    "        if discipline:\n",
    "            if discipline in discipline_to_skos:\n",
    "                discipline_uri = discipline_to_skos[discipline]\n",
    "            else:\n",
    "                discipline_uri = URIRef(f\"http://example.org/discipline/{discipline.replace(' ', '_')}\")\n",
    "                output_graph.add((discipline_uri, RDF.type, SKOS.Concept))\n",
    "                output_graph.add((discipline_uri, SKOS.prefLabel, Literal(discipline, datatype=XSD.string)))\n",
    "            output_graph.add((result, EX.Discipline, discipline_uri))\n",
    "\n",
    "        # Add links for results\n",
    "        output_graph.add((result, EX.Medal_type, medal_uri))\n",
    "        output_graph.add((result, EX.Name, athlete_uri))\n",
    "        output_graph.add((result, EX.Discipline, discipline_uri))\n",
    "        output_graph.add((result, EX.Event, event_uri))\n",
    "        output_graph.add((result, EX.Country, country_uri))\n",
    "\n",
    "    # Serialize the output graph\n",
    "    output_graph.serialize(destination=output_file, format=\"turtle\")\n",
    "    print(f\"Transformed data saved to {output_file}\")\n",
    "\n",
    "# File paths\n",
    "input_ttl_file = \"csv/data.ttl\"\n",
    "output_ttl_file = \"og24.ttl\"\n",
    "\n",
    "# Process the data\n",
    "process_data(input_ttl_file, output_ttl_file)\n",
    "\n",
    "\n",
    "\n"
   ]
  }
 ],
 "metadata": {
  "kernelspec": {
   "display_name": "Python (myenv)",
   "language": "python",
   "name": "myenv"
  },
  "language_info": {
   "codemirror_mode": {
    "name": "ipython",
    "version": 3
   },
   "file_extension": ".py",
   "mimetype": "text/x-python",
   "name": "python",
   "nbconvert_exporter": "python",
   "pygments_lexer": "ipython3",
   "version": "3.11.0"
  }
 },
 "nbformat": 4,
 "nbformat_minor": 2
}
